{
 "cells": [
  {
   "cell_type": "code",
   "execution_count": 1,
   "metadata": {},
   "outputs": [],
   "source": [
    "from PIL import Image\n",
    "import pytesseract"
   ]
  },
  {
   "cell_type": "markdown",
   "metadata": {},
   "source": [
    "Italian language trained data came from here: https://github.com/tesseract-ocr/tessdata"
   ]
  },
  {
   "cell_type": "code",
   "execution_count": 2,
   "metadata": {},
   "outputs": [],
   "source": [
    "image_file1 = Image.open(\"images/ryan-IMG_0882.jpg\")\n",
    "image_file1 = image_file1.convert(\"L\")\n",
    "image_file1.save(\"images/ryan-IMG_0882-bw.jpg\")"
   ]
  },
  {
   "cell_type": "markdown",
   "metadata": {},
   "source": [
    "<img style=\"height:40%; width:40%\" src=\"images/ryan-IMG_0882-bw.jpg\"/>"
   ]
  },
  {
   "cell_type": "markdown",
   "metadata": {},
   "source": [
    "### English"
   ]
  },
  {
   "cell_type": "code",
   "execution_count": 3,
   "metadata": {},
   "outputs": [
    {
     "name": "stdout",
     "output_type": "stream",
     "text": [
      "BIBLIOTECA DELL’ EROS\n",
      "\n",
      "GEORGES BATAILLE\n",
      "L’EROTISMO\n"
     ]
    }
   ],
   "source": [
    "print(pytesseract.image_to_string('images/ryan-IMG_0882-bw.jpg'))"
   ]
  },
  {
   "cell_type": "markdown",
   "metadata": {},
   "source": [
    "### Italian"
   ]
  },
  {
   "cell_type": "code",
   "execution_count": 4,
   "metadata": {},
   "outputs": [
    {
     "name": "stdout",
     "output_type": "stream",
     "text": [
      "BIBLIOTECA DELL'’EROS\n",
      "\n",
      "GEORGES BATAILLE\n",
      "L’EROTISMO\n"
     ]
    }
   ],
   "source": [
    "print(pytesseract.image_to_string('images/ryan-IMG_0882-bw.jpg', lang=\"ita\"))"
   ]
  },
  {
   "cell_type": "code",
   "execution_count": 5,
   "metadata": {},
   "outputs": [],
   "source": [
    "image_file2 = Image.open(\"images/srini-IMG_0826.jpeg\")\n",
    "image_file2 = image_file2.convert(\"L\")\n",
    "image_file2.save(\"images/srini-IMG_0826-bw.jpeg\")"
   ]
  },
  {
   "cell_type": "markdown",
   "metadata": {},
   "source": [
    "<img style=\"height:40%; width:40%\" src=\"images/srini-IMG_0826-bw.jpeg\"/>"
   ]
  },
  {
   "cell_type": "markdown",
   "metadata": {},
   "source": [
    "### English"
   ]
  },
  {
   "cell_type": "code",
   "execution_count": 6,
   "metadata": {},
   "outputs": [
    {
     "name": "stdout",
     "output_type": "stream",
     "text": [
      "YU\n",
      "S\n",
      "4\n",
      "Z\n",
      "c\n",
      "©\n",
      "=\n",
      "©\n",
      "ey)\n",
      "U\n"
     ]
    }
   ],
   "source": [
    "print(pytesseract.image_to_string('images/srini-IMG_0826-bw.jpeg'))"
   ]
  },
  {
   "cell_type": "markdown",
   "metadata": {},
   "source": [
    "### Italian"
   ]
  },
  {
   "cell_type": "code",
   "execution_count": 7,
   "metadata": {},
   "outputs": [
    {
     "name": "stdout",
     "output_type": "stream",
     "text": [
      "U\n",
      "P\n",
      "t\n",
      "?\n",
      "=\n",
      "©\n",
      "=\n",
      "e\n",
      "Q\n",
      "U\n"
     ]
    }
   ],
   "source": [
    "print(pytesseract.image_to_string('images/srini-IMG_0826-bw.jpeg', lang=\"ita\"))"
   ]
  },
  {
   "cell_type": "code",
   "execution_count": 8,
   "metadata": {},
   "outputs": [],
   "source": [
    "image_file3 = Image.open(\"images/luca-IMG_20181104_145032.jpg\")\n",
    "image_file3 = image_file3.convert(\"L\")\n",
    "image_file3.save(\"images/luca-IMG_20181104_145032-bw.jpg\")"
   ]
  },
  {
   "cell_type": "markdown",
   "metadata": {},
   "source": [
    "<img style=\"height:40%; width:40%\" src=\"images/luca-IMG_20181104_145032-bw.jpg\"/>"
   ]
  },
  {
   "cell_type": "markdown",
   "metadata": {},
   "source": [
    "### English"
   ]
  },
  {
   "cell_type": "code",
   "execution_count": 9,
   "metadata": {},
   "outputs": [
    {
     "name": "stdout",
     "output_type": "stream",
     "text": [
      "Aldo Adversi\n",
      "\n",
      "ao 122 Sansoni —\n",
      "\n",
      "<\n",
      "\n",
      "Are\n",
      "\n",
      "eS\n",
      "\n",
      "aru tit Mes\n"
     ]
    }
   ],
   "source": [
    "print(pytesseract.image_to_string('images/luca-IMG_20181104_145032-bw.jpg'))"
   ]
  },
  {
   "cell_type": "markdown",
   "metadata": {},
   "source": [
    "### Italian"
   ]
  },
  {
   "cell_type": "code",
   "execution_count": 10,
   "metadata": {},
   "outputs": [
    {
     "name": "stdout",
     "output_type": "stream",
     "text": [
      "Aldo Adversi\n",
      "\n",
      "èéòìè'è't\"ò'iié\"'ìii'ùè'iià\"ié 122 Sansoni\n",
      "\n",
      ".£.tt\n",
      "\n",
      "e\n",
      "\n",
      "91r\n",
      "\n",
      "OTT 5… È\n"
     ]
    }
   ],
   "source": [
    "print(pytesseract.image_to_string('images/luca-IMG_20181104_145032-bw.jpg', lang=\"ita\"))"
   ]
  },
  {
   "cell_type": "code",
   "execution_count": 11,
   "metadata": {},
   "outputs": [],
   "source": [
    "image_file4 = Image.open(\"images/ryan-IMG_0904.jpg\")\n",
    "image_file4 = image_file4.convert(\"L\")\n",
    "image_file4.save(\"images/ryan-IMG_0904-bw.jpg\")"
   ]
  },
  {
   "cell_type": "markdown",
   "metadata": {},
   "source": [
    "<img style=\"height:40%; width:40%\" src=\"images/ryan-IMG_0904-bw.jpg\"/>"
   ]
  },
  {
   "cell_type": "markdown",
   "metadata": {},
   "source": [
    "### English"
   ]
  },
  {
   "cell_type": "code",
   "execution_count": 12,
   "metadata": {},
   "outputs": [
    {
     "name": "stdout",
     "output_type": "stream",
     "text": [
      "{ LIBRI\n",
      "POCKET\n",
      "\n",
      "10 GIORN! CHE 7\"\n",
      "FECGERO TREMARE IL MONDO *\n",
      "\n",
      "JOHN REED\n",
      "\n",
      "Il primo resoconto\n",
      "della rivoluzione russa\n",
      "fatto da un\n",
      "\n",
      "testimone oculare\n",
      "\n",
      "che vi partecipo\n",
      "\n",
      "Longanesi & C.\n"
     ]
    }
   ],
   "source": [
    "print(pytesseract.image_to_string('images/ryan-IMG_0904-bw.jpg'))"
   ]
  },
  {
   "cell_type": "markdown",
   "metadata": {},
   "source": [
    "### Italian"
   ]
  },
  {
   "cell_type": "code",
   "execution_count": 13,
   "metadata": {},
   "outputs": [
    {
     "name": "stdout",
     "output_type": "stream",
     "text": [
      "| LIBRI\n",
      "POCKET\n",
      "\n",
      "10 GIORNI GHE\n",
      "FEGERO TREMARE IL MONDO “\n",
      "\n",
      "JOHN REED\n",
      "\n",
      "Il primo resoconto\n",
      "della rivoluzione russa\n",
      "fatto da un\n",
      "\n",
      "testimone oculare\n",
      "\n",
      "che vi partecipò\n",
      "\n",
      "Longanesi & C.\n"
     ]
    }
   ],
   "source": [
    "print(pytesseract.image_to_string('images/ryan-IMG_0904-bw.jpg', lang=\"ita\"))"
   ]
  },
  {
   "cell_type": "code",
   "execution_count": 14,
   "metadata": {},
   "outputs": [],
   "source": [
    "image_file5 = Image.open(\"images/srini-IMG_0863.jpeg\")\n",
    "image_file5 = image_file5.convert(\"L\")\n",
    "image_file5.save(\"images/srini-IMG_0863-bw.jpeg\")"
   ]
  },
  {
   "cell_type": "markdown",
   "metadata": {},
   "source": [
    "<img style=\"height:40%; width:40%\" src=\"images/srini-IMG_0863-bw.jpeg\"/>"
   ]
  },
  {
   "cell_type": "markdown",
   "metadata": {},
   "source": [
    "### English"
   ]
  },
  {
   "cell_type": "code",
   "execution_count": 15,
   "metadata": {},
   "outputs": [
    {
     "name": "stdout",
     "output_type": "stream",
     "text": [
      "|\n",
      "\n",
      "ee\n",
      "\n",
      "|\n",
      "\n",
      ".\n",
      "ei\n",
      "\n",
      "~ 4\n",
      "\n",
      "GERUSALEMME\n",
      "\n",
      "re\n",
      "\n",
      " \n",
      "\n",
      "da della citfa\n",
      "\n",
      "ol)\n",
      "\n",
      " \n",
      "\n",
      "{\n",
      "\n",
      "    \n",
      "\n",
      " \n",
      "\n",
      "a ee\n",
      "\n",
      "es a Feet\n"
     ]
    }
   ],
   "source": [
    "print(pytesseract.image_to_string('images/srini-IMG_0863-bw.jpeg'))"
   ]
  },
  {
   "cell_type": "markdown",
   "metadata": {},
   "source": [
    "### Italian"
   ]
  },
  {
   "cell_type": "code",
   "execution_count": 16,
   "metadata": {},
   "outputs": [
    {
     "name": "stdout",
     "output_type": "stream",
     "text": [
      "|\n",
      "\n",
      "|\n",
      "\n",
      "a|\n",
      "\n",
      "|\n",
      "\n",
      ".\n",
      "PO t\n",
      "\n",
      "O\n",
      "\n",
      "CIMT\n",
      "\n",
      "i@\n",
      "\n",
      " \n",
      "\n",
      "eleo -| oKe)je\n",
      "\n",
      "@]\n",
      "\n",
      " \n",
      "\n",
      "]\n",
      "\n",
      "    \n",
      "\n",
      " \n",
      "\n",
      "g S LNA\n",
      "\n",
      "a e g\n"
     ]
    }
   ],
   "source": [
    "print(pytesseract.image_to_string('images/srini-IMG_0863-bw.jpeg', lang=\"ita\"))"
   ]
  },
  {
   "cell_type": "code",
   "execution_count": 17,
   "metadata": {},
   "outputs": [],
   "source": [
    "image_file6 = Image.open(\"images/luca-IMG_20181104_213439.jpg\")\n",
    "image_file6 = image_file6.convert(\"L\")\n",
    "image_file6.save(\"images/luca-IMG_20181104_213439-bw.jpg\")"
   ]
  },
  {
   "cell_type": "markdown",
   "metadata": {},
   "source": [
    "<img style=\"height:40%; width:40%\" src=\"images/luca-IMG_20181104_213439-bw.jpg\"/>"
   ]
  },
  {
   "cell_type": "markdown",
   "metadata": {},
   "source": [
    "### English"
   ]
  },
  {
   "cell_type": "code",
   "execution_count": 18,
   "metadata": {},
   "outputs": [
    {
     "name": "stdout",
     "output_type": "stream",
     "text": [
      "LUMBRIA\n",
      "\n",
      "Manuali per il territorio\n",
      "\n",
      " \n",
      "\n",
      "Spoleto\n",
      "\n",
      "EDINDUSTRIA - ROMA\n"
     ]
    }
   ],
   "source": [
    "print(pytesseract.image_to_string('images/luca-IMG_20181104_213439-bw.jpg'))"
   ]
  },
  {
   "cell_type": "markdown",
   "metadata": {},
   "source": [
    "### Italian"
   ]
  },
  {
   "cell_type": "code",
   "execution_count": 19,
   "metadata": {},
   "outputs": [
    {
     "name": "stdout",
     "output_type": "stream",
     "text": [
      "L'UMBRIA\n",
      "\n",
      "Manuali per il territorio\n",
      "\n",
      " \n",
      "\n",
      "Spoleto\n",
      "\n",
      "EDINDUSTRIA - ROMA\n"
     ]
    }
   ],
   "source": [
    "print(pytesseract.image_to_string('images/luca-IMG_20181104_213439-bw.jpg', lang=\"ita\"))"
   ]
  }
 ],
 "metadata": {
  "kernelspec": {
   "display_name": "Python [default]",
   "language": "python",
   "name": "python3"
  },
  "language_info": {
   "codemirror_mode": {
    "name": "ipython",
    "version": 3
   },
   "file_extension": ".py",
   "mimetype": "text/x-python",
   "name": "python",
   "nbconvert_exporter": "python",
   "pygments_lexer": "ipython3",
   "version": "3.6.5"
  }
 },
 "nbformat": 4,
 "nbformat_minor": 2
}
