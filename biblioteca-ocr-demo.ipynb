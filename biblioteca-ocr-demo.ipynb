{
 "cells": [
  {
   "cell_type": "code",
   "execution_count": 1,
   "metadata": {},
   "outputs": [],
   "source": [
    "from IPython.display import Image\n",
    "import pytesseract"
   ]
  },
  {
   "cell_type": "markdown",
   "metadata": {},
   "source": [
    "Italian language trained data came from here: https://github.com/tesseract-ocr/tessdata"
   ]
  },
  {
   "cell_type": "markdown",
   "metadata": {},
   "source": [
    "<img style=\"height:40%; width:40%\" src=\"images/ryan-IMG_0882.jpg\"/>"
   ]
  },
  {
   "cell_type": "markdown",
   "metadata": {},
   "source": [
    "### English"
   ]
  },
  {
   "cell_type": "code",
   "execution_count": 2,
   "metadata": {},
   "outputs": [
    {
     "name": "stdout",
     "output_type": "stream",
     "text": [
      "BIBLIOTECA DELL’ EROS\n",
      "\n",
      "GEORGES BATAILLE\n",
      "L’EROTISMO\n"
     ]
    }
   ],
   "source": [
    "print(pytesseract.image_to_string('images/ryan-IMG_0882.jpg'))"
   ]
  },
  {
   "cell_type": "markdown",
   "metadata": {},
   "source": [
    "### Italian"
   ]
  },
  {
   "cell_type": "code",
   "execution_count": 3,
   "metadata": {},
   "outputs": [
    {
     "name": "stdout",
     "output_type": "stream",
     "text": [
      "BIBLIOTECA DELL'’EROS\n",
      "\n",
      "GEORGES BATAILLE\n",
      "L’EROTISMO\n"
     ]
    }
   ],
   "source": [
    "print(pytesseract.image_to_string('images/ryan-IMG_0882.jpg', lang=\"ita\"))"
   ]
  },
  {
   "cell_type": "markdown",
   "metadata": {},
   "source": [
    "<img style=\"height:40%; width:40%\" src=\"images/srini-IMG_0826.jpeg\"/>"
   ]
  },
  {
   "cell_type": "markdown",
   "metadata": {},
   "source": [
    "### English"
   ]
  },
  {
   "cell_type": "code",
   "execution_count": 4,
   "metadata": {},
   "outputs": [
    {
     "name": "stdout",
     "output_type": "stream",
     "text": [
      "usare if Nae\n",
      "\n",
      " \n",
      "\n",
      "Edizioni Ambiente\n",
      "\n",
      "ee\n",
      "\n",
      "7)\n",
      "s\n",
      "\n",
      "j\n",
      "\n",
      "iad\n",
      "\n",
      "; :\n",
      "\n",
      "4\n",
      "\n",
      "3 ries |\n",
      "\" ¥ Soe\n",
      "Be, Sethe, Pe\n",
      "\n",
      "¢ es!\n",
      "\n",
      "par i io a\n",
      "Le Rao 1S pode\n",
      "pe MP de, | Ph z\n",
      "Ma React Pts 2) Alin ce\n",
      "Wy Ur aah Aye\n",
      "THB Hala\n",
      "\n",
      "ny ; i\n",
      "a a toe t Pi\n",
      "® LS | aS\n",
      "fe Me heaped Mi ts ‘.\n",
      "i} abot\n",
      "t= ae\n",
      ": Cn\n",
      "a\n",
      "an\n",
      "NS\n",
      "nt &\n",
      "Pd\n",
      "A\n",
      "a\n"
     ]
    }
   ],
   "source": [
    "print(pytesseract.image_to_string('images/srini-IMG_0826.jpeg'))"
   ]
  },
  {
   "cell_type": "markdown",
   "metadata": {},
   "source": [
    "### Italian"
   ]
  },
  {
   "cell_type": "code",
   "execution_count": 5,
   "metadata": {},
   "outputs": [
    {
     "name": "stdout",
     "output_type": "stream",
     "text": [
      "usare if u\n",
      "\n",
      " \n",
      "\n",
      "Edizioni Ambiente\n",
      "\n",
      "IO\n",
      "\n",
      "PI\n",
      "$,\n",
      "\n",
      "}\n",
      "\n",
      "4\n",
      "\n",
      "i |\n",
      "\n",
      "l\n",
      "\n",
      "3 i Po\n",
      "i ‘-Î ,—ì;';\n",
      "7z E TNE) ra\n",
      "\n",
      "i 14\n",
      "\n",
      "'l' ;{ 5|;«Ì\n",
      ";\"£\"v: T\n",
      "u AI ’\n",
      "M T\n",
      "...\"»- zi\"“!\"\n",
      "MA R\n",
      "\n",
      "F] ' i\n",
      "LE i ,.;È'\n",
      "n DAT rb\n",
      "11 ii .\"v\n",
      "i ESE\n",
      "L i\n",
      "| A\n",
      "L\n",
      "P\n",
      ",\\4\n",
      "\\\\ è\n",
      "o\n",
      "LN\n",
      "N\n"
     ]
    }
   ],
   "source": [
    "print(pytesseract.image_to_string('images/srini-IMG_0826.jpeg', lang=\"ita\"))"
   ]
  },
  {
   "cell_type": "markdown",
   "metadata": {},
   "source": [
    "<img style=\"height:40%; width:40%\" src=\"images/luca-IMG_20181104_145032.jpg\"/>"
   ]
  },
  {
   "cell_type": "markdown",
   "metadata": {},
   "source": [
    "### English"
   ]
  },
  {
   "cell_type": "code",
   "execution_count": 6,
   "metadata": {},
   "outputs": [
    {
     "name": "stdout",
     "output_type": "stream",
     "text": [
      "ee\n",
      "\n",
      " \n",
      "\n",
      "rs\n",
      "\n",
      "ale» , 2 r\n",
      "anson! |\n",
      "\n",
      " \n",
      "\n",
      "122 S\n",
      "\n",
      "PY\n",
      "\n",
      "illustrate\n",
      "\n",
      "ia del\n",
      "\n",
      "le Storie\n",
      "\n",
      "ee\n",
      "\n",
      "do Advers\n",
      "\n",
      "icco\n",
      "\n",
      "K ‘ i ; i\n",
      "Re Bas eS ERGY Vel kh o, «eNEKEX SEUNG aN E KOS SK NOOR OS SCRE NOD Mew ORS aC HARE SON Capes ROOAE RTA CEL, YSU ane h Ae mam ye\n",
      "\n",
      "Stor\n",
      "\n",
      "Al\n",
      "P\n"
     ]
    }
   ],
   "source": [
    "print(pytesseract.image_to_string('images/luca-IMG_20181104_145032.jpg'))"
   ]
  },
  {
   "cell_type": "markdown",
   "metadata": {},
   "source": [
    "### Italian"
   ]
  },
  {
   "cell_type": "code",
   "execution_count": 7,
   "metadata": {},
   "outputs": [
    {
     "name": "stdout",
     "output_type": "stream",
     "text": [
      "4 i\n",
      "\n",
      " \n",
      "\n",
      "h\n",
      "\n",
      "E / ? l\n",
      "ansoni _\n",
      "\n",
      " \n",
      "\n",
      "122 S\n",
      "\n",
      "i\n",
      "\n",
      "Illustrate\n",
      "\n",
      "ia del\n",
      "\n",
      "le Storie\n",
      "\n",
      "a\n",
      "\n",
      "do Advers\n",
      "\n",
      "icco\n",
      "\n",
      "A Ò g ; e\n",
      "—.‘v—-vxo..—...u-u.-..-.-..-.......--..o.u.4...…..-.:...---...«.....-..n--..-.......-\\.....«...-...—....,._….... sssv nn> iv\n",
      "\n",
      "o KO\n",
      "\n",
      "AI\n",
      "P\n"
     ]
    }
   ],
   "source": [
    "print(pytesseract.image_to_string('images/luca-IMG_20181104_145032.jpg', lang=\"ita\"))"
   ]
  },
  {
   "cell_type": "markdown",
   "metadata": {},
   "source": [
    "<img style=\"height:40%; width:40%\" src=\"images/ryan-IMG_0904.jpg\"/>"
   ]
  },
  {
   "cell_type": "markdown",
   "metadata": {},
   "source": [
    "### English"
   ]
  },
  {
   "cell_type": "code",
   "execution_count": 8,
   "metadata": {},
   "outputs": [
    {
     "name": "stdout",
     "output_type": "stream",
     "text": [
      "JOHN REED\n",
      "\n",
      "Il primo resoconto\n",
      "della rivoluzione russa\n",
      "fatto da un\n",
      "\n",
      "testimone oculare\n",
      "\n",
      "che vi partecipd\n"
     ]
    }
   ],
   "source": [
    "print(pytesseract.image_to_string('images/ryan-IMG_0904.jpg'))"
   ]
  },
  {
   "cell_type": "markdown",
   "metadata": {},
   "source": [
    "### Italian"
   ]
  },
  {
   "cell_type": "code",
   "execution_count": 9,
   "metadata": {},
   "outputs": [
    {
     "name": "stdout",
     "output_type": "stream",
     "text": [
      "JOHN REED\n",
      "\n",
      "Il primo resoconto\n",
      "della rivoluzione russa\n",
      "fatto da un\n",
      "\n",
      "testimone oculare\n",
      "\n",
      "che vi partecipò\n"
     ]
    }
   ],
   "source": [
    "print(pytesseract.image_to_string('images/ryan-IMG_0904.jpg', lang=\"ita\"))"
   ]
  },
  {
   "cell_type": "markdown",
   "metadata": {},
   "source": [
    "<img style=\"height:40%; width:40%\" src=\"images/srini-IMG_0863.jpeg\"/>"
   ]
  },
  {
   "cell_type": "markdown",
   "metadata": {},
   "source": [
    "### English"
   ]
  },
  {
   "cell_type": "code",
   "execution_count": 10,
   "metadata": {},
   "outputs": [
    {
     "name": "stdout",
     "output_type": "stream",
     "text": [
      ", > 4 = -\" So — x ) ‘ a\n",
      "b ti ue Pi ag oie\n",
      "\n",
      "ae, 7 s «\n",
      "As\n",
      "sd > *\n",
      "on OO a\n",
      "ro\n",
      "ae\n",
      "Le\n",
      "\n",
      "  \n",
      "\n",
      "ae\n",
      "\n",
      "‘ | a\n",
      "“ag\n",
      "\n",
      "lie\n",
      "\n",
      "guida della c\n"
     ]
    }
   ],
   "source": [
    "print(pytesseract.image_to_string('images/srini-IMG_0863.jpeg'))"
   ]
  },
  {
   "cell_type": "markdown",
   "metadata": {},
   "source": [
    "### Italian"
   ]
  },
  {
   "cell_type": "code",
   "execution_count": 11,
   "metadata": {},
   "outputs": [
    {
     "name": "stdout",
     "output_type": "stream",
     "text": [
      "1 I $ Î) a e _ - X i Y v\n",
      "Ì i i NA n _ ’ E- rL\n",
      "\n",
      "a : % LI\n",
      "LI\n",
      "i 4 L\n",
      "A POO O a\n",
      "FSI\n",
      "b\n",
      "2\n",
      "\n",
      "  \n",
      "\n",
      "ri\n",
      "\n",
      "t .î …J/x_4\n",
      "E\n",
      "\n",
      "ITTà\n",
      "\n",
      "guida della c\n"
     ]
    }
   ],
   "source": [
    "print(pytesseract.image_to_string('images/srini-IMG_0863.jpeg', lang=\"ita\"))"
   ]
  },
  {
   "cell_type": "markdown",
   "metadata": {},
   "source": [
    "<img style=\"height:40%; width:40%\" src=\"images/luca-IMG_20181104_213439.jpg\"/>"
   ]
  },
  {
   "cell_type": "markdown",
   "metadata": {},
   "source": [
    "### English"
   ]
  },
  {
   "cell_type": "code",
   "execution_count": 12,
   "metadata": {},
   "outputs": [
    {
     "name": "stdout",
     "output_type": "stream",
     "text": [
      "LUMBRIA\n",
      "\n",
      "Manuali per il territorio\n",
      "\n",
      " \n",
      "\n",
      "Spoleto\n"
     ]
    }
   ],
   "source": [
    "print(pytesseract.image_to_string('images/luca-IMG_20181104_213439.jpg'))"
   ]
  },
  {
   "cell_type": "markdown",
   "metadata": {},
   "source": [
    "### Italian"
   ]
  },
  {
   "cell_type": "code",
   "execution_count": 13,
   "metadata": {},
   "outputs": [
    {
     "name": "stdout",
     "output_type": "stream",
     "text": [
      "L'UMBRIA\n",
      "\n",
      "Manuali per il territorio\n",
      "\n",
      " \n",
      "\n",
      "Spoleto\n"
     ]
    }
   ],
   "source": [
    "print(pytesseract.image_to_string('images/luca-IMG_20181104_213439.jpg', lang=\"ita\"))"
   ]
  }
 ],
 "metadata": {
  "kernelspec": {
   "display_name": "Python [default]",
   "language": "python",
   "name": "python3"
  },
  "language_info": {
   "codemirror_mode": {
    "name": "ipython",
    "version": 3
   },
   "file_extension": ".py",
   "mimetype": "text/x-python",
   "name": "python",
   "nbconvert_exporter": "python",
   "pygments_lexer": "ipython3",
   "version": "3.6.5"
  }
 },
 "nbformat": 4,
 "nbformat_minor": 2
}
